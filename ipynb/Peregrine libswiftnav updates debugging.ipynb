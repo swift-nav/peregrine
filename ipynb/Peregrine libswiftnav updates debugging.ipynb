{
 "metadata": {
  "name": "",
  "signature": "sha256:d5c30bcbc0be80388141ebcc707891a9d0dcf9c607354d681a3babe15eb424f2"
 },
 "nbformat": 3,
 "nbformat_minor": 0,
 "worksheets": [
  {
   "cells": [
    {
     "cell_type": "code",
     "collapsed": false,
     "input": [
      "%matplotlib inline\n",
      "%load_ext autoreload\n",
      "%autoreload 2"
     ],
     "language": "python",
     "metadata": {},
     "outputs": [],
     "prompt_number": 1
    },
    {
     "cell_type": "code",
     "collapsed": false,
     "input": [
      "import os\n",
      "import numpy as np\n",
      "import peregrine\n",
      "import peregrine.acquisition as acq\n",
      "import peregrine.analysis.samples\n",
      "import peregrine.analysis.acquisition\n",
      "import peregrine.include.generateCAcode as CAcode\n",
      "import peregrine.samples\n",
      "import peregrine.tracking as track\n",
      "import peregrine.initSettings\n",
      "import peregrine.ephemeris as eph\n",
      "import peregrine.gps_constants as gps"
     ],
     "language": "python",
     "metadata": {},
     "outputs": [],
     "prompt_number": 20
    },
    {
     "cell_type": "code",
     "collapsed": false,
     "input": [
      "# Load the sample file (available at http://downloads.swiftnav.com/baseband_samples/)\n",
      "s = peregrine.samples.load_samples(\"/tmp/20150616T013307Z.1bit\", file_format='1bit', \n",
      "                                   num_samples=-1, num_skip=0)\n",
      "# Specify the sampling and intermediate frequencies\n",
      "fs = 16.368e6; fi = fs / 4\n",
      "# Plot histogram and power spectral density (note: this only analyzes the first 2M samples)\n",
      "peregrine.analysis.samples.summary(s, sampling_freq = fs)"
     ],
     "language": "python",
     "metadata": {},
     "outputs": [
      {
       "metadata": {},
       "output_type": "display_data",
       "png": "[encoded data removed]",
       "text": [
        "<matplotlib.figure.Figure at 0x7f6b1c28c810>"
       ]
      }
     ],
     "prompt_number": 69
    },
    {
     "cell_type": "code",
     "collapsed": true,
     "input": [
      "prns_search = range(51)\n",
      "A = peregrine.acquisition.Acquisition(s, fs, fi, (gps.chips_per_code * fs / gps.chip_rate), \n",
      "                                      n_codes_integrate=4)\n",
      "acq = A.acquisition(prns=prns_search, show_progress=True, doppler_search=7000, threshold=24)\n",
      "acqed = [a for a in acq if a.status=='A']\n",
      "peregrine.analysis.acquisition.snr_bars(acq)\n",
      "peregrine.analysis.acquisition.acq_table(acq)"
     ],
     "language": "python",
     "metadata": {},
     "outputs": [
      {
       "javascript": [
        "//e6cd2c28-f47d-46a2-8eac-53a4f12ce1c7\n",
        "$(\"head\").append(\"<style> td.pb_widget {     width: auto; } td.pb_widget_fill {     width: 100%; } table.pb {     font-family: monospace;     border: 0;     margin: 0; } table.pb tr { border: 0; } table.pb td {     white-space: nowrap;     border: 0; } div.pb {     border: 1px solid #ddd;     border-radius: 3px; } div.pb_bar {     height: 1.5em; } </style>\")"
       ],
       "metadata": {},
       "output_type": "display_data",
       "text": [
        "<IPython.core.display.Javascript at 0x7f6b1c3a0f10>"
       ]
      },
      {
       "javascript": [
        "\n",
        "                  // e6cd2c28-f47d-46a2-8eac-53a4f12ce1c7 -- used to remove this code blob in the end\n",
        "                  IPython.OutputArea.prototype.cleanProgressBar = function(uuids) {\n",
        "                      // filter by uuid-strings \n",
        "                      var myfilter = function(output) { \n",
        "                          var nuids = uuids.length;\n",
        "                          for (var i=0; i<nuids; i++) {\n",
        "                              if (output.hasOwnProperty('html')) {\n",
        "                                  if (output.html.indexOf(uuids[i]) != -1) {\n",
        "                                      return false;\n",
        "                                  }\n",
        "                              }\n",
        "                              if (output.hasOwnProperty('javascript')) {\n",
        "                                  if (output.javascript.indexOf(uuids[i]) != -1) {\n",
        "                                      return false;\n",
        "                                  }\n",
        "                              }\n",
        "                          }\n",
        "                          // keep all others\n",
        "                          return true;\n",
        "                      };\n",
        "\n",
        "                      // Filter the ouputs\n",
        "                      this.outputs = this.outputs.filter(myfilter);\n",
        "                };\n",
        "                "
       ],
       "metadata": {},
       "output_type": "display_data",
       "text": [
        "<IPython.core.display.Javascript at 0x7f6b1c3a0d50>"
       ]
      },
      {
       "html": [
        "<div class=\"pb\" id=\"e6cd2c28-f47d-46a2-8eac-53a4f12ce1c7\"><table class=\"pb ui-widget\"><tr>\n",
        "<td class=\"pb_widget\"><div id=\"b684baa8-4cb1-4bf2-8b05-c23d0200203b\">  0%</div></td>\n",
        "<td class=\"pb_widget\"> </td>\n",
        "<td class=\"pb_widget\"><div id=\"4015f2d2-3dbd-4ab5-afdc-279974c56415\">ETA:  --:--:--</div></td>\n",
        "</tr></table><div>"
       ],
       "metadata": {},
       "output_type": "display_data",
       "text": [
        "<IPython.core.display.HTML at 0x7f6b1c362d10>"
       ]
      },
      {
       "javascript": [
        "$('div#b684baa8-4cb1-4bf2-8b05-c23d0200203b').text('  1%');"
       ],
       "metadata": {},
       "output_type": "display_data",
       "text": [
        "<IPython.core.display.Javascript at 0x7f6b1bea5210>"
       ]
      },
      {
       "javascript": [
        "$('div#4015f2d2-3dbd-4ab5-afdc-279974c56415').text('ETA:  0:00:32');"
       ],
       "metadata": {},
       "output_type": "display_data",
       "text": [
        "<IPython.core.display.Javascript at 0x7f6b1bea5e10>"
       ]
      },
      {
       "javascript": [
        "$('div#b684baa8-4cb1-4bf2-8b05-c23d0200203b').text('  3%');"
       ],
       "metadata": {},
       "output_type": "display_data",
       "text": [
        "<IPython.core.display.Javascript at 0x7f6b1bea5290>"
       ]
      },
      {
       "javascript": [
        "$('div#4015f2d2-3dbd-4ab5-afdc-279974c56415').text('ETA:  0:00:15');"
       ],
       "metadata": {},
       "output_type": "display_data",
       "text": [
        "<IPython.core.display.Javascript at 0x7f6b1bea5ad0>"
       ]
      },
      {
       "javascript": [
        "$('div#b684baa8-4cb1-4bf2-8b05-c23d0200203b').text('  5%');"
       ],
       "metadata": {},
       "output_type": "display_data",
       "text": [
        "<IPython.core.display.Javascript at 0x7f6b1bea5b50>"
       ]
      },
      {
       "javascript": [
        "$('div#4015f2d2-3dbd-4ab5-afdc-279974c56415').text('ETA:  0:00:10');"
       ],
       "metadata": {},
       "output_type": "display_data",
       "text": [
        "<IPython.core.display.Javascript at 0x7f6b1bea58d0>"
       ]
      },
      {
       "javascript": [
        "$('div#b684baa8-4cb1-4bf2-8b05-c23d0200203b').text('  7%');"
       ],
       "metadata": {},
       "output_type": "display_data",
       "text": [
        "<IPython.core.display.Javascript at 0x7f6b1bea5590>"
       ]
      },
      {
       "javascript": [
        "$('div#4015f2d2-3dbd-4ab5-afdc-279974c56415').text('ETA:  0:00:08');"
       ],
       "metadata": {},
       "output_type": "display_data",
       "text": [
        "<IPython.core.display.Javascript at 0x7f6b1bf5fd90>"
       ]
      },
      {
       "javascript": [
        "$('div#b684baa8-4cb1-4bf2-8b05-c23d0200203b').text('  9%');"
       ],
       "metadata": {},
       "output_type": "display_data",
       "text": [
        "<IPython.core.display.Javascript at 0x7f6b1bf5fa90>"
       ]
      },
      {
       "javascript": [
        "$('div#4015f2d2-3dbd-4ab5-afdc-279974c56415').text('ETA:  0:00:11');"
       ],
       "metadata": {},
       "output_type": "display_data",
       "text": [
        "<IPython.core.display.Javascript at 0x7f6b1bf5fad0>"
       ]
      },
      {
       "javascript": [
        "$('div#b684baa8-4cb1-4bf2-8b05-c23d0200203b').text(' 11%');"
       ],
       "metadata": {},
       "output_type": "display_data",
       "text": [
        "<IPython.core.display.Javascript at 0x7f6b1bf5fb10>"
       ]
      },
      {
       "javascript": [
        "$('div#4015f2d2-3dbd-4ab5-afdc-279974c56415').text('ETA:  0:00:09');"
       ],
       "metadata": {},
       "output_type": "display_data",
       "text": [
        "<IPython.core.display.Javascript at 0x7f6b1bf5f8d0>"
       ]
      },
      {
       "javascript": [
        "$('div#b684baa8-4cb1-4bf2-8b05-c23d0200203b').text(' 13%');"
       ],
       "metadata": {},
       "output_type": "display_data",
       "text": [
        "<IPython.core.display.Javascript at 0x7f6b1bf5f390>"
       ]
      },
      {
       "javascript": [
        "$('div#4015f2d2-3dbd-4ab5-afdc-279974c56415').text('ETA:  0:00:08');"
       ],
       "metadata": {},
       "output_type": "display_data",
       "text": [
        "<IPython.core.display.Javascript at 0x7f6b1bf5fa50>"
       ]
      },
      {
       "javascript": [
        "$('div#b684baa8-4cb1-4bf2-8b05-c23d0200203b').text(' 15%');"
       ],
       "metadata": {},
       "output_type": "display_data",
       "text": [
        "<IPython.core.display.Javascript at 0x7f6b1bf5f150>"
       ]
      },
      {
       "javascript": [
        "$('div#4015f2d2-3dbd-4ab5-afdc-279974c56415').text('ETA:  0:00:07');"
       ],
       "metadata": {},
       "output_type": "display_data",
       "text": [
        "<IPython.core.display.Javascript at 0x7f6b1bf5f910>"
       ]
      },
      {
       "javascript": [
        "$('div#b684baa8-4cb1-4bf2-8b05-c23d0200203b').text(' 17%');"
       ],
       "metadata": {},
       "output_type": "display_data",
       "text": [
        "<IPython.core.display.Javascript at 0x7f6b1bf3f3d0>"
       ]
      },
      {
       "javascript": [
        "$('div#4015f2d2-3dbd-4ab5-afdc-279974c56415').text('ETA:  0:00:08');"
       ],
       "metadata": {},
       "output_type": "display_data",
       "text": [
        "<IPython.core.display.Javascript at 0x7f6b1bf3f610>"
       ]
      },
      {
       "javascript": [
        "$('div#b684baa8-4cb1-4bf2-8b05-c23d0200203b').text(' 19%');"
       ],
       "metadata": {},
       "output_type": "display_data",
       "text": [
        "<IPython.core.display.Javascript at 0x7f6b1bf3fe90>"
       ]
      },
      {
       "javascript": [
        "$('div#4015f2d2-3dbd-4ab5-afdc-279974c56415').text('ETA:  0:00:07');"
       ],
       "metadata": {},
       "output_type": "display_data",
       "text": [
        "<IPython.core.display.Javascript at 0x7f6b1bf3ff90>"
       ]
      },
      {
       "javascript": [
        "$('div#b684baa8-4cb1-4bf2-8b05-c23d0200203b').text(' 21%');"
       ],
       "metadata": {},
       "output_type": "display_data",
       "text": [
        "<IPython.core.display.Javascript at 0x7f6b1bf3fd10>"
       ]
      },
      {
       "javascript": [
        "$('div#4015f2d2-3dbd-4ab5-afdc-279974c56415').text('ETA:  0:00:06');"
       ],
       "metadata": {},
       "output_type": "display_data",
       "text": [
        "<IPython.core.display.Javascript at 0x7f6b1bf3f890>"
       ]
      },
      {
       "javascript": [
        "$('div#b684baa8-4cb1-4bf2-8b05-c23d0200203b').text(' 23%');"
       ],
       "metadata": {},
       "output_type": "display_data",
       "text": [
        "<IPython.core.display.Javascript at 0x7f6b1bf3fd90>"
       ]
      },
      {
       "javascript": [
        "$('div#4015f2d2-3dbd-4ab5-afdc-279974c56415').text('ETA:  0:00:07');"
       ],
       "metadata": {},
       "output_type": "display_data",
       "text": [
        "<IPython.core.display.Javascript at 0x7f6b1bf3f250>"
       ]
      },
      {
       "javascript": [
        "$('div#b684baa8-4cb1-4bf2-8b05-c23d0200203b').text(' 25%');"
       ],
       "metadata": {},
       "output_type": "display_data",
       "text": [
        "<IPython.core.display.Javascript at 0x7f6b1c168290>"
       ]
      },
      {
       "javascript": [
        "$('div#4015f2d2-3dbd-4ab5-afdc-279974c56415').text('ETA:  0:00:07');"
       ],
       "metadata": {},
       "output_type": "display_data",
       "text": [
        "<IPython.core.display.Javascript at 0x7f6b1c1685d0>"
       ]
      },
      {
       "javascript": [
        "$('div#b684baa8-4cb1-4bf2-8b05-c23d0200203b').text(' 27%');"
       ],
       "metadata": {},
       "output_type": "display_data",
       "text": [
        "<IPython.core.display.Javascript at 0x7f6b1bf1b5d0>"
       ]
      },
      {
       "javascript": [
        "$('div#4015f2d2-3dbd-4ab5-afdc-279974c56415').text('ETA:  0:00:06');"
       ],
       "metadata": {},
       "output_type": "display_data",
       "text": [
        "<IPython.core.display.Javascript at 0x7f6b1bf1b9d0>"
       ]
      },
      {
       "javascript": [
        "$('div#b684baa8-4cb1-4bf2-8b05-c23d0200203b').text(' 29%');"
       ],
       "metadata": {},
       "output_type": "display_data",
       "text": [
        "<IPython.core.display.Javascript at 0x7f6b1bf1bc90>"
       ]
      },
      {
       "javascript": [
        "$('div#4015f2d2-3dbd-4ab5-afdc-279974c56415').text('ETA:  0:00:06');"
       ],
       "metadata": {},
       "output_type": "display_data",
       "text": [
        "<IPython.core.display.Javascript at 0x7f6b1bf1bf10>"
       ]
      },
      {
       "javascript": [
        "$('div#b684baa8-4cb1-4bf2-8b05-c23d0200203b').text(' 31%');"
       ],
       "metadata": {},
       "output_type": "display_data",
       "text": [
        "<IPython.core.display.Javascript at 0x7f6b1bf1b0d0>"
       ]
      },
      {
       "javascript": [
        "$('div#4015f2d2-3dbd-4ab5-afdc-279974c56415').text('ETA:  0:00:06');"
       ],
       "metadata": {},
       "output_type": "display_data",
       "text": [
        "<IPython.core.display.Javascript at 0x7f6b1bf1bdd0>"
       ]
      },
      {
       "javascript": [
        "$('div#b684baa8-4cb1-4bf2-8b05-c23d0200203b').text(' 33%');"
       ],
       "metadata": {},
       "output_type": "display_data",
       "text": [
        "<IPython.core.display.Javascript at 0x7f6b1bf1b550>"
       ]
      },
      {
       "javascript": [
        "$('div#4015f2d2-3dbd-4ab5-afdc-279974c56415').text('ETA:  0:00:06');"
       ],
       "metadata": {},
       "output_type": "display_data",
       "text": [
        "<IPython.core.display.Javascript at 0x7f6b1bf1bad0>"
       ]
      },
      {
       "javascript": [
        "$('div#b684baa8-4cb1-4bf2-8b05-c23d0200203b').text(' 35%');"
       ],
       "metadata": {},
       "output_type": "display_data",
       "text": [
        "<IPython.core.display.Javascript at 0x7f6b1bf1ba90>"
       ]
      },
      {
       "javascript": [
        "$('div#4015f2d2-3dbd-4ab5-afdc-279974c56415').text('ETA:  0:00:06');"
       ],
       "metadata": {},
       "output_type": "display_data",
       "text": [
        "<IPython.core.display.Javascript at 0x7f6b1bf1b290>"
       ]
      },
      {
       "javascript": [
        "$('div#b684baa8-4cb1-4bf2-8b05-c23d0200203b').text(' 37%');"
       ],
       "metadata": {},
       "output_type": "display_data",
       "text": [
        "<IPython.core.display.Javascript at 0x7f6b1bf1ba10>"
       ]
      },
      {
       "javascript": [
        "$('div#4015f2d2-3dbd-4ab5-afdc-279974c56415').text('ETA:  0:00:05');"
       ],
       "metadata": {},
       "output_type": "display_data",
       "text": [
        "<IPython.core.display.Javascript at 0x7f6b1bf1bd50>"
       ]
      },
      {
       "javascript": [
        "$('div#b684baa8-4cb1-4bf2-8b05-c23d0200203b').text(' 39%');"
       ],
       "metadata": {},
       "output_type": "display_data",
       "text": [
        "<IPython.core.display.Javascript at 0x7f6b1bf1bf90>"
       ]
      },
      {
       "javascript": [
        "$('div#4015f2d2-3dbd-4ab5-afdc-279974c56415').text('ETA:  0:00:05');"
       ],
       "metadata": {},
       "output_type": "display_data",
       "text": [
        "<IPython.core.display.Javascript at 0x7f6b1bee3c50>"
       ]
      },
      {
       "javascript": [
        "$('div#b684baa8-4cb1-4bf2-8b05-c23d0200203b').text(' 41%');"
       ],
       "metadata": {},
       "output_type": "display_data",
       "text": [
        "<IPython.core.display.Javascript at 0x7f6b1bee3f10>"
       ]
      },
      {
       "javascript": [
        "$('div#4015f2d2-3dbd-4ab5-afdc-279974c56415').text('ETA:  0:00:05');"
       ],
       "metadata": {},
       "output_type": "display_data",
       "text": [
        "<IPython.core.display.Javascript at 0x7f6b1bf1bf90>"
       ]
      },
      {
       "javascript": [
        "$('div#b684baa8-4cb1-4bf2-8b05-c23d0200203b').text(' 43%');"
       ],
       "metadata": {},
       "output_type": "display_data",
       "text": [
        "<IPython.core.display.Javascript at 0x7f6b1bf1bd50>"
       ]
      },
      {
       "javascript": [
        "$('div#4015f2d2-3dbd-4ab5-afdc-279974c56415').text('ETA:  0:00:05');"
       ],
       "metadata": {},
       "output_type": "display_data",
       "text": [
        "<IPython.core.display.Javascript at 0x7f6b1bf1ba10>"
       ]
      },
      {
       "javascript": [
        "$('div#b684baa8-4cb1-4bf2-8b05-c23d0200203b').text(' 45%');"
       ],
       "metadata": {},
       "output_type": "display_data",
       "text": [
        "<IPython.core.display.Javascript at 0x7f6b1bf1b290>"
       ]
      },
      {
       "javascript": [
        "$('div#4015f2d2-3dbd-4ab5-afdc-279974c56415').text('ETA:  0:00:04');"
       ],
       "metadata": {},
       "output_type": "display_data",
       "text": [
        "<IPython.core.display.Javascript at 0x7f6b1bf1bad0>"
       ]
      },
      {
       "javascript": [
        "$('div#b684baa8-4cb1-4bf2-8b05-c23d0200203b').text(' 47%');"
       ],
       "metadata": {},
       "output_type": "display_data",
       "text": [
        "<IPython.core.display.Javascript at 0x7f6b1bf1b550>"
       ]
      },
      {
       "javascript": [
        "$('div#4015f2d2-3dbd-4ab5-afdc-279974c56415').text('ETA:  0:00:04');"
       ],
       "metadata": {},
       "output_type": "display_data",
       "text": [
        "<IPython.core.display.Javascript at 0x7f6b1bf1bdd0>"
       ]
      },
      {
       "javascript": [
        "$('div#b684baa8-4cb1-4bf2-8b05-c23d0200203b').text(' 49%');"
       ],
       "metadata": {},
       "output_type": "display_data",
       "text": [
        "<IPython.core.display.Javascript at 0x7f6b1bf1b0d0>"
       ]
      },
      {
       "javascript": [
        "$('div#4015f2d2-3dbd-4ab5-afdc-279974c56415').text('ETA:  0:00:04');"
       ],
       "metadata": {},
       "output_type": "display_data",
       "text": [
        "<IPython.core.display.Javascript at 0x7f6b1bf1bf10>"
       ]
      },
      {
       "javascript": [
        "$('div#b684baa8-4cb1-4bf2-8b05-c23d0200203b').text(' 50%');"
       ],
       "metadata": {},
       "output_type": "display_data",
       "text": [
        "<IPython.core.display.Javascript at 0x7f6b1bf1bc90>"
       ]
      },
      {
       "javascript": [
        "$('div#4015f2d2-3dbd-4ab5-afdc-279974c56415').text('ETA:  0:00:04');"
       ],
       "metadata": {},
       "output_type": "display_data",
       "text": [
        "<IPython.core.display.Javascript at 0x7f6b1bf1b9d0>"
       ]
      },
      {
       "javascript": [
        "$('div#b684baa8-4cb1-4bf2-8b05-c23d0200203b').text(' 52%');"
       ],
       "metadata": {},
       "output_type": "display_data",
       "text": [
        "<IPython.core.display.Javascript at 0x7f6b1bf1b5d0>"
       ]
      },
      {
       "javascript": [
        "$('div#4015f2d2-3dbd-4ab5-afdc-279974c56415').text('ETA:  0:00:04');"
       ],
       "metadata": {},
       "output_type": "display_data",
       "text": [
        "<IPython.core.display.Javascript at 0x7f6b1bf1ba90>"
       ]
      },
      {
       "javascript": [
        "$('div#b684baa8-4cb1-4bf2-8b05-c23d0200203b').text(' 54%');"
       ],
       "metadata": {},
       "output_type": "display_data",
       "text": [
        "<IPython.core.display.Javascript at 0x7f6b1c168290>"
       ]
      },
      {
       "javascript": [
        "$('div#4015f2d2-3dbd-4ab5-afdc-279974c56415').text('ETA:  0:00:03');"
       ],
       "metadata": {},
       "output_type": "display_data",
       "text": [
        "<IPython.core.display.Javascript at 0x7f6b1c1685d0>"
       ]
      },
      {
       "javascript": [
        "$('div#b684baa8-4cb1-4bf2-8b05-c23d0200203b').text(' 56%');"
       ],
       "metadata": {},
       "output_type": "display_data",
       "text": [
        "<IPython.core.display.Javascript at 0x7f6b1bf3fd90>"
       ]
      },
      {
       "javascript": [
        "$('div#4015f2d2-3dbd-4ab5-afdc-279974c56415').text('ETA:  0:00:03');"
       ],
       "metadata": {},
       "output_type": "display_data",
       "text": [
        "<IPython.core.display.Javascript at 0x7f6b1bf3f890>"
       ]
      },
      {
       "javascript": [
        "$('div#b684baa8-4cb1-4bf2-8b05-c23d0200203b').text(' 58%');"
       ],
       "metadata": {},
       "output_type": "display_data",
       "text": [
        "<IPython.core.display.Javascript at 0x7f6b1bf3fd10>"
       ]
      },
      {
       "javascript": [
        "$('div#4015f2d2-3dbd-4ab5-afdc-279974c56415').text('ETA:  0:00:03');"
       ],
       "metadata": {},
       "output_type": "display_data",
       "text": [
        "<IPython.core.display.Javascript at 0x7f6b1bf3ff90>"
       ]
      },
      {
       "javascript": [
        "$('div#b684baa8-4cb1-4bf2-8b05-c23d0200203b').text(' 60%');"
       ],
       "metadata": {},
       "output_type": "display_data",
       "text": [
        "<IPython.core.display.Javascript at 0x7f6b1bf3fe90>"
       ]
      },
      {
       "javascript": [
        "$('div#4015f2d2-3dbd-4ab5-afdc-279974c56415').text('ETA:  0:00:03');"
       ],
       "metadata": {},
       "output_type": "display_data",
       "text": [
        "<IPython.core.display.Javascript at 0x7f6b1bf3f610>"
       ]
      },
      {
       "javascript": [
        "$('div#b684baa8-4cb1-4bf2-8b05-c23d0200203b').text(' 62%');"
       ],
       "metadata": {},
       "output_type": "display_data",
       "text": [
        "<IPython.core.display.Javascript at 0x7f6b1bf3f3d0>"
       ]
      },
      {
       "javascript": [
        "$('div#4015f2d2-3dbd-4ab5-afdc-279974c56415').text('ETA:  0:00:03');"
       ],
       "metadata": {},
       "output_type": "display_data",
       "text": [
        "<IPython.core.display.Javascript at 0x7f6b1bf3f250>"
       ]
      },
      {
       "javascript": [
        "$('div#b684baa8-4cb1-4bf2-8b05-c23d0200203b').text(' 64%');"
       ],
       "metadata": {},
       "output_type": "display_data",
       "text": [
        "<IPython.core.display.Javascript at 0x7f6b1bf5f150>"
       ]
      },
      {
       "javascript": [
        "$('div#4015f2d2-3dbd-4ab5-afdc-279974c56415').text('ETA:  0:00:03');"
       ],
       "metadata": {},
       "output_type": "display_data",
       "text": [
        "<IPython.core.display.Javascript at 0x7f6b1bf5fa50>"
       ]
      },
      {
       "javascript": [
        "$('div#b684baa8-4cb1-4bf2-8b05-c23d0200203b').text(' 66%');"
       ],
       "metadata": {},
       "output_type": "display_data",
       "text": [
        "<IPython.core.display.Javascript at 0x7f6b1bf5f390>"
       ]
      },
      {
       "javascript": [
        "$('div#4015f2d2-3dbd-4ab5-afdc-279974c56415').text('ETA:  0:00:02');"
       ],
       "metadata": {},
       "output_type": "display_data",
       "text": [
        "<IPython.core.display.Javascript at 0x7f6b1bf5f8d0>"
       ]
      },
      {
       "javascript": [
        "$('div#b684baa8-4cb1-4bf2-8b05-c23d0200203b').text(' 68%');"
       ],
       "metadata": {},
       "output_type": "display_data",
       "text": [
        "<IPython.core.display.Javascript at 0x7f6b1bf5fb10>"
       ]
      },
      {
       "javascript": [
        "$('div#4015f2d2-3dbd-4ab5-afdc-279974c56415').text('ETA:  0:00:02');"
       ],
       "metadata": {},
       "output_type": "display_data",
       "text": [
        "<IPython.core.display.Javascript at 0x7f6b1bf5fad0>"
       ]
      },
      {
       "javascript": [
        "$('div#b684baa8-4cb1-4bf2-8b05-c23d0200203b').text(' 70%');"
       ],
       "metadata": {},
       "output_type": "display_data",
       "text": [
        "<IPython.core.display.Javascript at 0x7f6b1bf5fa90>"
       ]
      },
      {
       "javascript": [
        "$('div#4015f2d2-3dbd-4ab5-afdc-279974c56415').text('ETA:  0:00:02');"
       ],
       "metadata": {},
       "output_type": "display_data",
       "text": [
        "<IPython.core.display.Javascript at 0x7f6b1bf5fd90>"
       ]
      },
      {
       "javascript": [
        "$('div#b684baa8-4cb1-4bf2-8b05-c23d0200203b').text(' 72%');"
       ],
       "metadata": {},
       "output_type": "display_data",
       "text": [
        "<IPython.core.display.Javascript at 0x7f6b1bf5f910>"
       ]
      },
      {
       "javascript": [
        "$('div#4015f2d2-3dbd-4ab5-afdc-279974c56415').text('ETA:  0:00:02');"
       ],
       "metadata": {},
       "output_type": "display_data",
       "text": [
        "<IPython.core.display.Javascript at 0x7f6b1bea58d0>"
       ]
      },
      {
       "javascript": [
        "$('div#b684baa8-4cb1-4bf2-8b05-c23d0200203b').text(' 74%');"
       ],
       "metadata": {},
       "output_type": "display_data",
       "text": [
        "<IPython.core.display.Javascript at 0x7f6b1bea5b50>"
       ]
      },
      {
       "javascript": [
        "$('div#4015f2d2-3dbd-4ab5-afdc-279974c56415').text('ETA:  0:00:02');"
       ],
       "metadata": {},
       "output_type": "display_data",
       "text": [
        "<IPython.core.display.Javascript at 0x7f6b1bea5ad0>"
       ]
      },
      {
       "javascript": [
        "$('div#b684baa8-4cb1-4bf2-8b05-c23d0200203b').text(' 76%');"
       ],
       "metadata": {},
       "output_type": "display_data",
       "text": [
        "<IPython.core.display.Javascript at 0x7f6b1c362d10>"
       ]
      },
      {
       "javascript": [
        "$('div#4015f2d2-3dbd-4ab5-afdc-279974c56415').text('ETA:  0:00:02');"
       ],
       "metadata": {},
       "output_type": "display_data",
       "text": [
        "<IPython.core.display.Javascript at 0x7f6b1bea5290>"
       ]
      },
      {
       "javascript": [
        "$('div#b684baa8-4cb1-4bf2-8b05-c23d0200203b').text(' 78%');"
       ],
       "metadata": {},
       "output_type": "display_data",
       "text": [
        "<IPython.core.display.Javascript at 0x7f6b1bea5e10>"
       ]
      },
      {
       "javascript": [
        "$('div#4015f2d2-3dbd-4ab5-afdc-279974c56415').text('ETA:  0:00:01');"
       ],
       "metadata": {},
       "output_type": "display_data",
       "text": [
        "<IPython.core.display.Javascript at 0x7f6b1bea5210>"
       ]
      },
      {
       "javascript": [
        "$('div#b684baa8-4cb1-4bf2-8b05-c23d0200203b').text(' 80%');"
       ],
       "metadata": {},
       "output_type": "display_data",
       "text": [
        "<IPython.core.display.Javascript at 0x7f6b1bea5590>"
       ]
      },
      {
       "javascript": [
        "$('div#4015f2d2-3dbd-4ab5-afdc-279974c56415').text('ETA:  0:00:01');"
       ],
       "metadata": {},
       "output_type": "display_data",
       "text": [
        "<IPython.core.display.Javascript at 0x7f6b1c3a0f10>"
       ]
      },
      {
       "javascript": [
        "$('div#b684baa8-4cb1-4bf2-8b05-c23d0200203b').text(' 82%');"
       ],
       "metadata": {},
       "output_type": "display_data",
       "text": [
        "<IPython.core.display.Javascript at 0x7f6b1c3a0d50>"
       ]
      },
      {
       "javascript": [
        "$('div#4015f2d2-3dbd-4ab5-afdc-279974c56415').text('ETA:  0:00:01');"
       ],
       "metadata": {},
       "output_type": "display_data",
       "text": [
        "<IPython.core.display.Javascript at 0x7f6b1bee3e90>"
       ]
      },
      {
       "javascript": [
        "$('div#b684baa8-4cb1-4bf2-8b05-c23d0200203b').text(' 84%');"
       ],
       "metadata": {},
       "output_type": "display_data",
       "text": [
        "<IPython.core.display.Javascript at 0x7f6b1bee38d0>"
       ]
      },
      {
       "javascript": [
        "$('div#4015f2d2-3dbd-4ab5-afdc-279974c56415').text('ETA:  0:00:01');"
       ],
       "metadata": {},
       "output_type": "display_data",
       "text": [
        "<IPython.core.display.Javascript at 0x7f6b1bee3810>"
       ]
      },
      {
       "javascript": [
        "$('div#b684baa8-4cb1-4bf2-8b05-c23d0200203b').text(' 86%');"
       ],
       "metadata": {},
       "output_type": "display_data",
       "text": [
        "<IPython.core.display.Javascript at 0x7f6b1bee3950>"
       ]
      },
      {
       "javascript": [
        "$('div#4015f2d2-3dbd-4ab5-afdc-279974c56415').text('ETA:  0:00:01');"
       ],
       "metadata": {},
       "output_type": "display_data",
       "text": [
        "<IPython.core.display.Javascript at 0x7f6b1bee3b90>"
       ]
      },
      {
       "javascript": [
        "$('div#b684baa8-4cb1-4bf2-8b05-c23d0200203b').text(' 88%');"
       ],
       "metadata": {},
       "output_type": "display_data",
       "text": [
        "<IPython.core.display.Javascript at 0x7f6b1bee3110>"
       ]
      },
      {
       "javascript": [
        "$('div#4015f2d2-3dbd-4ab5-afdc-279974c56415').text('ETA:  0:00:01');"
       ],
       "metadata": {},
       "output_type": "display_data",
       "text": [
        "<IPython.core.display.Javascript at 0x7f6b1bee3c50>"
       ]
      },
      {
       "javascript": [
        "$('div#b684baa8-4cb1-4bf2-8b05-c23d0200203b').text(' 90%');"
       ],
       "metadata": {},
       "output_type": "display_data",
       "text": [
        "<IPython.core.display.Javascript at 0x7f6b1bee3850>"
       ]
      },
      {
       "javascript": [
        "$('div#4015f2d2-3dbd-4ab5-afdc-279974c56415').text('ETA:  0:00:00');"
       ],
       "metadata": {},
       "output_type": "display_data",
       "text": [
        "<IPython.core.display.Javascript at 0x7f6b1bee35d0>"
       ]
      },
      {
       "javascript": [
        "$('div#b684baa8-4cb1-4bf2-8b05-c23d0200203b').text(' 92%');"
       ],
       "metadata": {},
       "output_type": "display_data",
       "text": [
        "<IPython.core.display.Javascript at 0x7f6b1bee3710>"
       ]
      },
      {
       "javascript": [
        "$('div#4015f2d2-3dbd-4ab5-afdc-279974c56415').text('ETA:  0:00:00');"
       ],
       "metadata": {},
       "output_type": "display_data",
       "text": [
        "<IPython.core.display.Javascript at 0x7f6b1bee3e10>"
       ]
      },
      {
       "javascript": [
        "$('div#b684baa8-4cb1-4bf2-8b05-c23d0200203b').text(' 94%');"
       ],
       "metadata": {},
       "output_type": "display_data",
       "text": [
        "<IPython.core.display.Javascript at 0x7f6b1bee3ed0>"
       ]
      },
      {
       "javascript": [
        "$('div#4015f2d2-3dbd-4ab5-afdc-279974c56415').text('ETA:  0:00:00');"
       ],
       "metadata": {},
       "output_type": "display_data",
       "text": [
        "<IPython.core.display.Javascript at 0x7f6b1bee3f90>"
       ]
      },
      {
       "javascript": [
        "$('div#b684baa8-4cb1-4bf2-8b05-c23d0200203b').text(' 96%');"
       ],
       "metadata": {},
       "output_type": "display_data",
       "text": [
        "<IPython.core.display.Javascript at 0x7f6b1bee39d0>"
       ]
      },
      {
       "javascript": [
        "$('div#4015f2d2-3dbd-4ab5-afdc-279974c56415').text('ETA:  0:00:00');"
       ],
       "metadata": {},
       "output_type": "display_data",
       "text": [
        "<IPython.core.display.Javascript at 0x7f6b1bee3d50>"
       ]
      },
      {
       "javascript": [
        "$('div#b684baa8-4cb1-4bf2-8b05-c23d0200203b').text(' 98%');"
       ],
       "metadata": {},
       "output_type": "display_data",
       "text": [
        "<IPython.core.display.Javascript at 0x7f6b1bee3f10>"
       ]
      },
      {
       "javascript": [
        "$('div#4015f2d2-3dbd-4ab5-afdc-279974c56415').text('ETA:  0:00:00');"
       ],
       "metadata": {},
       "output_type": "display_data",
       "text": [
        "<IPython.core.display.Javascript at 0x7f6b1c0e6fd0>"
       ]
      },
      {
       "javascript": [
        "$('div#b684baa8-4cb1-4bf2-8b05-c23d0200203b').text('100%');"
       ],
       "metadata": {},
       "output_type": "display_data",
       "text": [
        "<IPython.core.display.Javascript at 0x7f6b1c0e6790>"
       ]
      },
      {
       "javascript": [
        "$('div#4015f2d2-3dbd-4ab5-afdc-279974c56415').text('ETA:  0:00:00');"
       ],
       "metadata": {},
       "output_type": "display_data",
       "text": [
        "<IPython.core.display.Javascript at 0x7f6b1c0d5dd0>"
       ]
      },
      {
       "javascript": [
        "$('div#b684baa8-4cb1-4bf2-8b05-c23d0200203b').text('100%');"
       ],
       "metadata": {},
       "output_type": "display_data",
       "text": [
        "<IPython.core.display.Javascript at 0x7f6b1c0d53d0>"
       ]
      },
      {
       "javascript": [
        "$('div#4015f2d2-3dbd-4ab5-afdc-279974c56415').text('Time: 0:00:08');"
       ],
       "metadata": {},
       "output_type": "display_data",
       "text": [
        "<IPython.core.display.Javascript at 0x7f6b1c0d5650>"
       ]
      },
      {
       "javascript": [
        "var element = document.getElementById('e6cd2c28-f47d-46a2-8eac-53a4f12ce1c7');\n",
        "                    var parent = element.parentNode\n",
        "                    parent.removeChild(element);\n",
        "                    parent.parentElement.remove();"
       ],
       "metadata": {},
       "output_type": "display_data",
       "text": [
        "<IPython.core.display.Javascript at 0x7f6b1c34c110>"
       ]
      },
      {
       "javascript": [
        "this.cleanProgressBar(['e6cd2c28-f47d-46a2-8eac-53a4f12ce1c7', 'b684baa8-4cb1-4bf2-8b05-c23d0200203b', '4015f2d2-3dbd-4ab5-afdc-279974c56415'])"
       ],
       "metadata": {},
       "output_type": "display_data",
       "text": [
        "<IPython.core.display.Javascript at 0x7f6b1c0d5190>"
       ]
      },
      {
       "output_type": "stream",
       "stream": "stdout",
       "text": [
        "PRN  2 SNR 287.38 @ CP  747.3,  -981.60 Hz A\n",
        "PRN  5 SNR 113.40 @ CP  200.6, +2931.31 Hz A\n",
        "PRN  6 SNR  28.98 @ CP  999.0, -2856.60 Hz A\n",
        "PRN 10 SNR  48.24 @ CP  325.9,  -490.81 Hz A\n",
        "PRN 12 SNR 335.11 @ CP  512.3,  -262.82 Hz A\n",
        "PRN 24 SNR  30.44 @ CP  759.0, -2886.57 Hz A\n",
        "PRN 25 SNR 186.86 @ CP  208.3, +2243.54 Hz A\n",
        "PRN 29 SNR 126.45 @ CP  648.1, +2509.90 Hz A\n",
        "PRN 46 SNR  72.44 @ CP  523.0,  +273.85 Hz A\n",
        "PRN 48 SNR  84.74 @ CP  960.8,  +382.31 Hz A\n",
        "PRN 51 SNR  73.98 @ CP  303.1,  +350.87 Hz A\n"
       ]
      },
      {
       "metadata": {},
       "output_type": "display_data",
       "png": "[encoded data removed]",
       "text": [
        "<matplotlib.figure.Figure at 0x7f6b1c34ccd0>"
       ]
      }
     ],
     "prompt_number": 43
    },
    {
     "cell_type": "code",
     "collapsed": false,
     "input": [
      "prns_to_track = [2]#, 5, 10, 25, 29]\n",
      "\n",
      "coherent_len = 1; s2bw = 20\n",
      "ms_to_track = None #100 * 1000\n",
      "chans = [a for a in acqed if a.prn+1 in prns_to_track]\n",
      "\n",
      "track_res={tr.prn: tr for tr in peregrine.tracking.track(s, chans,\n",
      "                                     ms_to_track=ms_to_track,\n",
      "                                     sampling_freq=fs,\n",
      "                                     stage1_loop_filter_params=(\n",
      "                                        (1, 0.7, 1),     # Code loop parameters\n",
      "                                        (15, 0.7, 1),    # Carrier loop parameters\n",
      "                                        1e3,             # Loop frequency\n",
      "                                        5,               # Carrier loop aiding_igain\n",
      "                                        1540),\n",
      "                                     stage2_coherent_ms=coherent_len,\n",
      "                                     stage2_loop_filter_params=(\n",
      "                                        (1, 0.7, 1),     # Code loop parameters\n",
      "                                        (s2bw, 0.7, 1),    # Carrier loop parameters\n",
      "                                        1e3/coherent_len,# Loop frequency\n",
      "                                        0,               # Carrier loop aiding_igain\n",
      "                                        1540),\n",
      "                                     multi=False)} #(prns_to_track > 1))}"
     ],
     "language": "python",
     "metadata": {},
     "outputs": [
      {
       "javascript": [
        "//5966d3b2-1762-4a13-a36c-b85e80a7b0fc\n",
        "$(\"head\").append(\"<style> td.pb_widget {     width: auto; } td.pb_widget_fill {     width: 100%; } table.pb {     font-family: monospace;     border: 0;     margin: 0; } table.pb tr { border: 0; } table.pb td {     white-space: nowrap;     border: 0; } div.pb {     border: 1px solid #ddd;     border-radius: 3px; } div.pb_bar {     height: 1.5em; } </style>\")"
       ],
       "metadata": {},
       "output_type": "display_data",
       "text": [
        "<IPython.core.display.Javascript at 0x7f6b1bfbe210>"
       ]
      },
      {
       "javascript": [
        "\n",
        "                  // 5966d3b2-1762-4a13-a36c-b85e80a7b0fc -- used to remove this code blob in the end\n",
        "                  IPython.OutputArea.prototype.cleanProgressBar = function(uuids) {\n",
        "                      // filter by uuid-strings \n",
        "                      var myfilter = function(output) { \n",
        "                          var nuids = uuids.length;\n",
        "                          for (var i=0; i<nuids; i++) {\n",
        "                              if (output.hasOwnProperty('html')) {\n",
        "                                  if (output.html.indexOf(uuids[i]) != -1) {\n",
        "                                      return false;\n",
        "                                  }\n",
        "                              }\n",
        "                              if (output.hasOwnProperty('javascript')) {\n",
        "                                  if (output.javascript.indexOf(uuids[i]) != -1) {\n",
        "                                      return false;\n",
        "                                  }\n",
        "                              }\n",
        "                          }\n",
        "                          // keep all others\n",
        "                          return true;\n",
        "                      };\n",
        "\n",
        "                      // Filter the ouputs\n",
        "                      this.outputs = this.outputs.filter(myfilter);\n",
        "                };\n",
        "                "
       ],
       "metadata": {},
       "output_type": "display_data",
       "text": [
        "<IPython.core.display.Javascript at 0x7f6b1bfbe950>"
       ]
      },
      {
       "html": [
        "<div class=\"pb\" id=\"5966d3b2-1762-4a13-a36c-b85e80a7b0fc\"><table class=\"pb ui-widget\"><tr>\n",
        "<td class=\"pb_widget\">  Tracking </td>\n",
        "<td class=\"pb_widget\"><div id=\"57a563d1-463f-4d3b-abcd-bca023e0fff9\">(CH: -/-)</div></td>\n",
        "<td class=\"pb_widget\"> </td>\n",
        "<td class=\"pb_widget\"><div id=\"ea3f22d8-740f-48ce-a701-2b61983a5666\">  0%</div></td>\n",
        "<td class=\"pb_widget\"> </td>\n",
        "<td class=\"pb_widget\"><div id=\"35c08915-f326-446c-a62c-723fdfe66de6\">ETA:  --:--:--</div></td>\n",
        "<td class=\"pb_widget\"> </td>\n",
        "<td class=\"pb_widget_fill\">\n",
        "        <div class=\"pb_bar\" id=\"7d674610-85be-45eb-aa20-a5a54474ccac\"></div>\n",
        "        <script type=\"text/javascript\">\n",
        "            $(\"div#7d674610-85be-45eb-aa20-a5a54474ccac\").progressbar({value: 0, max: 61072});\n",
        "        </script>\n",
        "        </td>\n",
        "</tr></table><div>"
       ],
       "metadata": {},
       "output_type": "display_data",
       "text": [
        "<IPython.core.display.HTML at 0x7f6b1bfbe8d0>"
       ]
      },
      {
       "ename": "AttributeError",
       "evalue": "'dict' object has no attribute 'bw'",
       "output_type": "pyerr",
       "traceback": [
        "\u001b[0;31m---------------------------------------------------------------------------\u001b[0m\n\u001b[0;31mAttributeError\u001b[0m                            Traceback (most recent call last)",
        "\u001b[0;32m<ipython-input-56-6313db0f4618>\u001b[0m in \u001b[0;36m<module>\u001b[0;34m()\u001b[0m\n\u001b[1;32m     21\u001b[0m                                         \u001b[0;36m0\u001b[0m\u001b[0;34m,\u001b[0m               \u001b[0;31m# Carrier loop aiding_igain\u001b[0m\u001b[0;34m\u001b[0m\u001b[0m\n\u001b[1;32m     22\u001b[0m                                         1540),\n\u001b[0;32m---> 23\u001b[0;31m                                      multi=False)} #(prns_to_track > 1))}\n\u001b[0m",
        "\u001b[0;32m/home/henry/swift/peregrine/peregrine/tracking.py\u001b[0m in \u001b[0;36mtrack\u001b[0;34m(samples, channels, ms_to_track, sampling_freq, chipping_rate, IF, show_progress, loop_filter_class, stage1_loop_filter_params, correlator, stage2_coherent_ms, stage2_loop_filter_params, multi)\u001b[0m\n\u001b[1;32m    282\u001b[0m                             show_progress=show_progress, func_progress=show_progress)\n\u001b[1;32m    283\u001b[0m   \u001b[0;32melse\u001b[0m\u001b[0;34m:\u001b[0m\u001b[0;34m\u001b[0m\u001b[0m\n\u001b[0;32m--> 284\u001b[0;31m     \u001b[0mtrack_results\u001b[0m\u001b[0;34m=\u001b[0m\u001b[0mmap\u001b[0m\u001b[0;34m(\u001b[0m\u001b[0;32mlambda\u001b[0m \u001b[0;34m(\u001b[0m\u001b[0mn\u001b[0m\u001b[0;34m,\u001b[0m \u001b[0mchan\u001b[0m\u001b[0;34m)\u001b[0m\u001b[0;34m:\u001b[0m \u001b[0mdo_channel\u001b[0m\u001b[0;34m(\u001b[0m\u001b[0mchan\u001b[0m\u001b[0;34m,\u001b[0m \u001b[0mn\u001b[0m\u001b[0;34m=\u001b[0m\u001b[0mn\u001b[0m\u001b[0;34m)\u001b[0m\u001b[0;34m,\u001b[0m \u001b[0menumerate\u001b[0m\u001b[0;34m(\u001b[0m\u001b[0mchannels\u001b[0m\u001b[0;34m)\u001b[0m\u001b[0;34m)\u001b[0m\u001b[0;34m\u001b[0m\u001b[0m\n\u001b[0m\u001b[1;32m    285\u001b[0m \u001b[0;34m\u001b[0m\u001b[0m\n\u001b[1;32m    286\u001b[0m   \u001b[0;32mif\u001b[0m \u001b[0mpbar\u001b[0m\u001b[0;34m:\u001b[0m\u001b[0;34m\u001b[0m\u001b[0m\n",
        "\u001b[0;32m/home/henry/swift/peregrine/peregrine/tracking.py\u001b[0m in \u001b[0;36m<lambda>\u001b[0;34m((n, chan))\u001b[0m\n\u001b[1;32m    282\u001b[0m                             show_progress=show_progress, func_progress=show_progress)\n\u001b[1;32m    283\u001b[0m   \u001b[0;32melse\u001b[0m\u001b[0;34m:\u001b[0m\u001b[0;34m\u001b[0m\u001b[0m\n\u001b[0;32m--> 284\u001b[0;31m     \u001b[0mtrack_results\u001b[0m\u001b[0;34m=\u001b[0m\u001b[0mmap\u001b[0m\u001b[0;34m(\u001b[0m\u001b[0;32mlambda\u001b[0m \u001b[0;34m(\u001b[0m\u001b[0mn\u001b[0m\u001b[0;34m,\u001b[0m \u001b[0mchan\u001b[0m\u001b[0;34m)\u001b[0m\u001b[0;34m:\u001b[0m \u001b[0mdo_channel\u001b[0m\u001b[0;34m(\u001b[0m\u001b[0mchan\u001b[0m\u001b[0;34m,\u001b[0m \u001b[0mn\u001b[0m\u001b[0;34m=\u001b[0m\u001b[0mn\u001b[0m\u001b[0;34m)\u001b[0m\u001b[0;34m,\u001b[0m \u001b[0menumerate\u001b[0m\u001b[0;34m(\u001b[0m\u001b[0mchannels\u001b[0m\u001b[0;34m)\u001b[0m\u001b[0;34m)\u001b[0m\u001b[0;34m\u001b[0m\u001b[0m\n\u001b[0m\u001b[1;32m    285\u001b[0m \u001b[0;34m\u001b[0m\u001b[0m\n\u001b[1;32m    286\u001b[0m   \u001b[0;32mif\u001b[0m \u001b[0mpbar\u001b[0m\u001b[0;34m:\u001b[0m\u001b[0;34m\u001b[0m\u001b[0m\n",
        "\u001b[0;32m/home/henry/swift/peregrine/peregrine/tracking.py\u001b[0m in \u001b[0;36mdo_channel\u001b[0;34m(chan, n, q_progress)\u001b[0m\n\u001b[1;32m    157\u001b[0m                                           \u001b[0mcn0_0\u001b[0m\u001b[0;34m=\u001b[0m\u001b[0mcn0_0\u001b[0m\u001b[0;34m,\u001b[0m\u001b[0;34m\u001b[0m\u001b[0m\n\u001b[1;32m    158\u001b[0m                                           \u001b[0mcutoff_freq\u001b[0m\u001b[0;34m=\u001b[0m\u001b[0;36m10\u001b[0m\u001b[0;34m,\u001b[0m\u001b[0;34m\u001b[0m\u001b[0m\n\u001b[0;32m--> 159\u001b[0;31m                                           loop_freq=1e3)\n\u001b[0m\u001b[1;32m    160\u001b[0m \u001b[0;34m\u001b[0m\u001b[0m\n\u001b[1;32m    161\u001b[0m     \u001b[0;31m# Estimate initial code freq via aiding from acq carrier freq\u001b[0m\u001b[0;34m\u001b[0m\u001b[0;34m\u001b[0m\u001b[0m\n",
        "\u001b[0;32m/home/henry/swift/peregrine/libswiftnav/python/swiftnav/track.so\u001b[0m in \u001b[0;36mswiftnav.track.CN0Estimator.__cinit__ (swiftnav/track.c:4891)\u001b[0;34m()\u001b[0m\n",
        "\u001b[0;31mAttributeError\u001b[0m: 'dict' object has no attribute 'bw'"
       ]
      }
     ],
     "prompt_number": 56
    },
    {
     "cell_type": "code",
     "collapsed": false,
     "input": [
      "# Debugging: need to fix this in swiftnav bindings, and then update in tracking.py if needed\n",
      "cn0_est = swiftnav.track.CN0Estimator(bw=1e3,\n",
      "                                          cn0_0=22,\n",
      "                                          cutoff_freq=10,\n",
      "                                          loop_freq=1e3)"
     ],
     "language": "python",
     "metadata": {},
     "outputs": [
      {
       "ename": "AttributeError",
       "evalue": "'dict' object has no attribute 'bw'",
       "output_type": "pyerr",
       "traceback": [
        "\u001b[0;31m---------------------------------------------------------------------------\u001b[0m\n\u001b[0;31mAttributeError\u001b[0m                            Traceback (most recent call last)",
        "\u001b[0;32m<ipython-input-64-bd74cbb90f7e>\u001b[0m in \u001b[0;36m<module>\u001b[0;34m()\u001b[0m\n\u001b[1;32m      3\u001b[0m                                           \u001b[0mcn0_0\u001b[0m\u001b[0;34m=\u001b[0m\u001b[0;36m22\u001b[0m\u001b[0;34m,\u001b[0m\u001b[0;34m\u001b[0m\u001b[0m\n\u001b[1;32m      4\u001b[0m                                           \u001b[0mcutoff_freq\u001b[0m\u001b[0;34m=\u001b[0m\u001b[0;36m10\u001b[0m\u001b[0;34m,\u001b[0m\u001b[0;34m\u001b[0m\u001b[0m\n\u001b[0;32m----> 5\u001b[0;31m                                           loop_freq=1e3)\n\u001b[0m",
        "\u001b[0;32m/home/henry/swift/peregrine/libswiftnav/python/swiftnav/track.so\u001b[0m in \u001b[0;36mswiftnav.track.CN0Estimator.__cinit__ (swiftnav/track.c:4891)\u001b[0;34m()\u001b[0m\n",
        "\u001b[0;31mAttributeError\u001b[0m: 'dict' object has no attribute 'bw'"
       ]
      }
     ],
     "prompt_number": 64
    },
    {
     "cell_type": "code",
     "collapsed": false,
     "input": [
      "# Debugging: need to fix this in swiftnav bindings, and then update in tracking.py if needed\n",
      "\n",
      "stage1_loop_filter_params=(\n",
      "                                        (1, 0.7, 1),     # Code loop parameters\n",
      "                                        (15, 0.7, 1),    # Carrier loop parameters\n",
      "                                        1e3,             # Loop frequency\n",
      "                                        5,               # Carrier loop aiding_igain\n",
      "                                        1540)\n",
      "loop_filter_class=swiftnav.track.AidedTrackingLoop\n",
      "code_freq_init = 1023\n",
      "carr_freq_init = 0\n",
      "loop_filter = loop_filter_class(\n",
      "    loop_freq = stage1_loop_filter_params[2], \\\n",
      "    code_freq = code_freq_init, \\\n",
      "    code_bw = stage1_loop_filter_params[0][0], \\\n",
      "    code_zeta = stage1_loop_filter_params[0][1], \\\n",
      "    code_k = stage1_loop_filter_params[0][2], \\\n",
      "    carr_to_code = stage1_loop_filter_params[4], \\\n",
      "    carr_freq = carr_freq_init, \\\n",
      "    carr_bw = stage1_loop_filter_params[1][0], \\\n",
      "    carr_zeta = stage1_loop_filter_params[1][1], \\\n",
      "    carr_k = stage1_loop_filter_params[1][2], \\\n",
      "    carr_freq_b1 = stage1_loop_filter_params[3], \\\n",
      "    )"
     ],
     "language": "python",
     "metadata": {},
     "outputs": [
      {
       "ename": "ValueError",
       "evalue": "No value specified for struct attribute 'carr_filt'",
       "output_type": "pyerr",
       "traceback": [
        "\u001b[0;31m---------------------------------------------------------------------------\u001b[0m\n\u001b[0;31mValueError\u001b[0m                                Traceback (most recent call last)",
        "\u001b[0;32m<ipython-input-66-8a087ed4ce34>\u001b[0m in \u001b[0;36m<module>\u001b[0;34m()\u001b[0m\n\u001b[1;32m     21\u001b[0m     \u001b[0mcarr_zeta\u001b[0m \u001b[0;34m=\u001b[0m \u001b[0mstage1_loop_filter_params\u001b[0m\u001b[0;34m[\u001b[0m\u001b[0;36m1\u001b[0m\u001b[0;34m]\u001b[0m\u001b[0;34m[\u001b[0m\u001b[0;36m1\u001b[0m\u001b[0;34m]\u001b[0m\u001b[0;34m,\u001b[0m\u001b[0;31m \u001b[0m\u001b[0;31m\\\u001b[0m\u001b[0;34m\u001b[0m\u001b[0m\n\u001b[1;32m     22\u001b[0m     \u001b[0mcarr_k\u001b[0m \u001b[0;34m=\u001b[0m \u001b[0mstage1_loop_filter_params\u001b[0m\u001b[0;34m[\u001b[0m\u001b[0;36m1\u001b[0m\u001b[0;34m]\u001b[0m\u001b[0;34m[\u001b[0m\u001b[0;36m2\u001b[0m\u001b[0;34m]\u001b[0m\u001b[0;34m,\u001b[0m\u001b[0;31m \u001b[0m\u001b[0;31m\\\u001b[0m\u001b[0;34m\u001b[0m\u001b[0m\n\u001b[0;32m---> 23\u001b[0;31m     \u001b[0mcarr_freq_b1\u001b[0m \u001b[0;34m=\u001b[0m \u001b[0mstage1_loop_filter_params\u001b[0m\u001b[0;34m[\u001b[0m\u001b[0;36m3\u001b[0m\u001b[0;34m]\u001b[0m\u001b[0;34m,\u001b[0m\u001b[0;31m \u001b[0m\u001b[0;31m\\\u001b[0m\u001b[0;34m\u001b[0m\u001b[0m\n\u001b[0m\u001b[1;32m     24\u001b[0m     )\n",
        "\u001b[0;32m/home/henry/swift/peregrine/libswiftnav/python/swiftnav/track.so\u001b[0m in \u001b[0;36mswiftnav.track.AidedTrackingLoop.__cinit__ (swiftnav/track.c:3034)\u001b[0;34m()\u001b[0m\n",
        "\u001b[0;32m/home/henry/swift/peregrine/libswiftnav/python/swiftnav/track.so\u001b[0m in \u001b[0;36mFromPyStructUtility.__pyx_convert__from_py_aided_tl_state_t (swiftnav/track.c:8975)\u001b[0;34m()\u001b[0m\n",
        "\u001b[0;31mValueError\u001b[0m: No value specified for struct attribute 'carr_filt'"
       ]
      }
     ],
     "prompt_number": 66
    },
    {
     "cell_type": "code",
     "collapsed": false,
     "input": [],
     "language": "python",
     "metadata": {},
     "outputs": []
    }
   ],
   "metadata": {}
  }
 ]
}